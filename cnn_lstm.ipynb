{
 "cells": [
  {
   "cell_type": "code",
   "execution_count": 19,
   "outputs": [],
   "source": [
    "# This Python 3 environment comes with many helpful analytics libraries installed\n",
    "# It is defined by the kaggle/python docker image: https://github.com/kaggle/docker-python\n",
    "# For example, here's several helpful packages to load in\n",
    "\n",
    "import numpy as np # linear algebra\n",
    "import pandas as pd # data processing, CSV file I/O (e.g. pd.read_csv)\n",
    "\n",
    "from sklearn.feature_extraction.text import CountVectorizer\n",
    "from keras.preprocessing.text import Tokenizer\n",
    "from keras.preprocessing.sequence import pad_sequences\n",
    "from keras.models import Sequential\n",
    "from keras.layers import Dense, Embedding, LSTM, SpatialDropout1D\n",
    "from sklearn.model_selection import train_test_split\n",
    "from keras.utils.np_utils import to_categorical\n",
    "import re\n",
    "\n",
    "# Input data files are available in the \"../input/\" directory.\n",
    "# For example, running this (by clicking run or pressing Shift+Enter) will list the files in the input directory"
   ],
   "metadata": {
    "collapsed": false,
    "pycharm": {
     "name": "#%%\n"
    }
   }
  },
  {
   "cell_type": "code",
   "execution_count": 20,
   "outputs": [],
   "source": [
    "data = pd.read_csv('data_final.csv')\n",
    "# Keeping only the neccessary columns\n",
    "data = data[['Headline','Price movement']]"
   ],
   "metadata": {
    "collapsed": false,
    "pycharm": {
     "name": "#%%\n"
    }
   }
  },
  {
   "cell_type": "code",
   "execution_count": 21,
   "outputs": [
    {
     "name": "stdout",
     "output_type": "stream",
     "text": [
      "6040\n",
      "4916\n"
     ]
    }
   ],
   "source": [
    "data = data[data['Price movement'] != \"#N/A\"]\n",
    "data['Headline'] = data['Headline'].apply(lambda x: x.lower())\n",
    "data['Headline'] = data['Headline'].apply((lambda x: re.sub('[^a-zA-z0-9\\s]','',x)))\n",
    "\n",
    "print(data[data['Price movement'] == 'Up'].size)\n",
    "print(data[data['Price movement'] == 'Down'].size)\n",
    "\n",
    "for idx,row in data.iterrows():\n",
    "    row[0] = row[0].replace('rt',' ')\n",
    "\n",
    "max_fatures = 2000\n",
    "tokenizer = Tokenizer(num_words=max_fatures, split=' ')\n",
    "tokenizer.fit_on_texts(data['Headline'].values)\n",
    "X = tokenizer.texts_to_sequences(data['Headline'].values)\n",
    "X = pad_sequences(X)"
   ],
   "metadata": {
    "collapsed": false,
    "pycharm": {
     "name": "#%%\n"
    }
   }
  },
  {
   "cell_type": "code",
   "execution_count": 22,
   "outputs": [
    {
     "name": "stdout",
     "output_type": "stream",
     "text": [
      "Model: \"sequential_3\"\n",
      "_________________________________________________________________\n",
      " Layer (type)                Output Shape              Param #   \n",
      "=================================================================\n",
      " embedding_3 (Embedding)     (None, 35, 128)           256000    \n",
      "                                                                 \n",
      " conv1d_9 (Conv1D)           (None, 35, 128)           65664     \n",
      "                                                                 \n",
      " max_pooling1d_9 (MaxPooling  (None, 17, 128)          0         \n",
      " 1D)                                                             \n",
      "                                                                 \n",
      " lstm_3 (LSTM)               (None, 196)               254800    \n",
      "                                                                 \n",
      " flatten_3 (Flatten)         (None, 196)               0         \n",
      "                                                                 \n",
      " dense_5 (Dense)             (None, 256)               50432     \n",
      "                                                                 \n",
      " dense_6 (Dense)             (None, 2)                 514       \n",
      "                                                                 \n",
      "=================================================================\n",
      "Total params: 627,410\n",
      "Trainable params: 627,410\n",
      "Non-trainable params: 0\n",
      "_________________________________________________________________\n",
      "None\n"
     ]
    }
   ],
   "source": [
    "from keras.layers import Conv1D, MaxPooling1D, Flatten\n",
    "\n",
    "embed_dim = 128\n",
    "lstm_out = 196\n",
    "\n",
    "model = Sequential()\n",
    "model.add(Embedding(max_fatures, embed_dim,input_length = X.shape[1]))\n",
    "model.add(Conv1D(filters=128, kernel_size=4, padding='same', activation='relu'))\n",
    "model.add(MaxPooling1D(pool_size=2))\n",
    "# model.add(Conv1D(filters=64, kernel_size=4, padding='same', activation='relu'))\n",
    "# model.add(MaxPooling1D(pool_size=2))\n",
    "# model.add(Conv1D(filters=32, kernel_size=4, padding='same', activation='relu'))\n",
    "# model.add(MaxPooling1D(pool_size=2))\n",
    "model.add(LSTM(lstm_out, dropout=0.2, recurrent_dropout=0.2))\n",
    "model.add(Flatten())\n",
    "model.add(Dense(256, activation='relu'))\n",
    "model.add(Dense(2, activation='sigmoid'))\n",
    "model.compile(loss = 'categorical_crossentropy', optimizer='adam',metrics = ['accuracy'])\n",
    "print(model.summary())"
   ],
   "metadata": {
    "collapsed": false,
    "pycharm": {
     "name": "#%%\n"
    }
   }
  },
  {
   "cell_type": "code",
   "execution_count": 23,
   "outputs": [
    {
     "name": "stdout",
     "output_type": "stream",
     "text": [
      "(3778, 35) (3778, 2)\n",
      "(1862, 35) (1862, 2)\n"
     ]
    }
   ],
   "source": [
    "Y = pd.get_dummies(data['Price movement']).values\n",
    "X_train, X_test, Y_train, Y_test = train_test_split(X,Y, test_size = 0.33, random_state = 42)\n",
    "print(X_train.shape,Y_train.shape)\n",
    "print(X_test.shape,Y_test.shape)"
   ],
   "metadata": {
    "collapsed": false,
    "pycharm": {
     "name": "#%%\n"
    }
   }
  },
  {
   "cell_type": "code",
   "execution_count": 24,
   "outputs": [
    {
     "name": "stdout",
     "output_type": "stream",
     "text": [
      "Epoch 1/20\n",
      "119/119 - 6s - loss: 0.6894 - accuracy: 0.5159 - 6s/epoch - 50ms/step\n",
      "Epoch 2/20\n",
      "119/119 - 4s - loss: 0.7383 - accuracy: 0.5199 - 4s/epoch - 33ms/step\n",
      "Epoch 3/20\n",
      "119/119 - 4s - loss: 0.7326 - accuracy: 0.5019 - 4s/epoch - 32ms/step\n",
      "Epoch 4/20\n",
      "119/119 - 4s - loss: 0.6995 - accuracy: 0.5196 - 4s/epoch - 31ms/step\n",
      "Epoch 5/20\n",
      "119/119 - 4s - loss: 0.8173 - accuracy: 0.4894 - 4s/epoch - 30ms/step\n",
      "Epoch 6/20\n",
      "119/119 - 4s - loss: 0.8235 - accuracy: 0.4974 - 4s/epoch - 30ms/step\n",
      "Epoch 7/20\n",
      "119/119 - 4s - loss: 0.8858 - accuracy: 0.5058 - 4s/epoch - 33ms/step\n",
      "Epoch 8/20\n",
      "119/119 - 4s - loss: 0.7644 - accuracy: 0.5053 - 4s/epoch - 34ms/step\n",
      "Epoch 9/20\n",
      "119/119 - 4s - loss: 1.0074 - accuracy: 0.5032 - 4s/epoch - 32ms/step\n",
      "Epoch 10/20\n",
      "119/119 - 4s - loss: 0.8529 - accuracy: 0.5127 - 4s/epoch - 32ms/step\n",
      "Epoch 11/20\n",
      "119/119 - 4s - loss: 0.8244 - accuracy: 0.5032 - 4s/epoch - 36ms/step\n",
      "Epoch 12/20\n",
      "119/119 - 4s - loss: 0.8410 - accuracy: 0.5101 - 4s/epoch - 31ms/step\n",
      "Epoch 13/20\n",
      "119/119 - 4s - loss: 0.8420 - accuracy: 0.5238 - 4s/epoch - 36ms/step\n",
      "Epoch 14/20\n",
      "119/119 - 4s - loss: 1.3631 - accuracy: 0.5042 - 4s/epoch - 34ms/step\n",
      "Epoch 15/20\n",
      "119/119 - 4s - loss: 1.3592 - accuracy: 0.4868 - 4s/epoch - 32ms/step\n",
      "Epoch 16/20\n",
      "119/119 - 4s - loss: 1.2746 - accuracy: 0.5011 - 4s/epoch - 31ms/step\n",
      "Epoch 17/20\n",
      "119/119 - 4s - loss: 1.1609 - accuracy: 0.5032 - 4s/epoch - 30ms/step\n",
      "Epoch 18/20\n",
      "119/119 - 4s - loss: 1.1252 - accuracy: 0.4921 - 4s/epoch - 30ms/step\n",
      "Epoch 19/20\n",
      "119/119 - 4s - loss: 1.8535 - accuracy: 0.5116 - 4s/epoch - 31ms/step\n",
      "Epoch 20/20\n",
      "119/119 - 4s - loss: 1.5116 - accuracy: 0.5124 - 4s/epoch - 33ms/step\n"
     ]
    },
    {
     "data": {
      "text/plain": "<keras.callbacks.History at 0x28c5f07e4c0>"
     },
     "execution_count": 24,
     "metadata": {},
     "output_type": "execute_result"
    }
   ],
   "source": [
    "batch_size = 32\n",
    "model.fit(X_train, Y_train, epochs=20, batch_size=batch_size, verbose = 2)"
   ],
   "metadata": {
    "collapsed": false,
    "pycharm": {
     "name": "#%%\n"
    }
   }
  },
  {
   "cell_type": "code",
   "execution_count": 25,
   "outputs": [
    {
     "name": "stdout",
     "output_type": "stream",
     "text": [
      "59/59 - 1s - loss: 1.0325 - accuracy: 0.4796 - 606ms/epoch - 10ms/step\n",
      "Accuracy: 47.96%\n"
     ]
    }
   ],
   "source": [
    "# Final evaluation of the model\n",
    "scores = model.evaluate(X_test, Y_test, verbose=2)\n",
    "print(\"Accuracy: %.2f%%\" % (scores[1]*100))"
   ],
   "metadata": {
    "collapsed": false,
    "pycharm": {
     "name": "#%%\n"
    }
   }
  },
  {
   "cell_type": "code",
   "execution_count": 44,
   "outputs": [],
   "source": [],
   "metadata": {
    "collapsed": false,
    "pycharm": {
     "name": "#%%\n"
    }
   }
  },
  {
   "cell_type": "code",
   "execution_count": null,
   "outputs": [],
   "source": [],
   "metadata": {
    "collapsed": false,
    "pycharm": {
     "name": "#%%\n"
    }
   }
  }
 ],
 "metadata": {
  "kernelspec": {
   "display_name": "Python 3",
   "language": "python",
   "name": "python3"
  },
  "language_info": {
   "codemirror_mode": {
    "name": "ipython",
    "version": 2
   },
   "file_extension": ".py",
   "mimetype": "text/x-python",
   "name": "python",
   "nbconvert_exporter": "python",
   "pygments_lexer": "ipython2",
   "version": "2.7.6"
  }
 },
 "nbformat": 4,
 "nbformat_minor": 0
}