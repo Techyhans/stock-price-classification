{
 "cells": [
  {
   "cell_type": "code",
   "execution_count": 1,
   "outputs": [],
   "source": [
    "# This Python 3 environment comes with many helpful analytics libraries installed\n",
    "# It is defined by the kaggle/python docker image: https://github.com/kaggle/docker-python\n",
    "# For example, here's several helpful packages to load in\n",
    "\n",
    "import numpy as np # linear algebra\n",
    "import pandas as pd # data processing, CSV file I/O (e.g. pd.read_csv)\n",
    "\n",
    "from sklearn.feature_extraction.text import CountVectorizer\n",
    "from keras.preprocessing.text import Tokenizer\n",
    "from keras.preprocessing.sequence import pad_sequences\n",
    "from keras.models import Sequential\n",
    "from keras.layers import Dense, Embedding, LSTM, SpatialDropout1D\n",
    "from sklearn.model_selection import train_test_split\n",
    "from keras.utils.np_utils import to_categorical\n",
    "import re\n",
    "\n",
    "# Input data files are available in the \"../input/\" directory.\n",
    "# For example, running this (by clicking run or pressing Shift+Enter) will list the files in the input directory"
   ],
   "metadata": {
    "collapsed": false,
    "pycharm": {
     "name": "#%%\n"
    }
   }
  },
  {
   "cell_type": "code",
   "execution_count": 2,
   "outputs": [],
   "source": [
    "data = pd.read_csv('data_final.csv')\n",
    "# Keeping only the neccessary columns\n",
    "data = data[['Headline','Price movement']]"
   ],
   "metadata": {
    "collapsed": false,
    "pycharm": {
     "name": "#%%\n"
    }
   }
  },
  {
   "cell_type": "code",
   "execution_count": 3,
   "outputs": [
    {
     "name": "stdout",
     "output_type": "stream",
     "text": [
      "4490\n",
      "3724\n"
     ]
    }
   ],
   "source": [
    "data = data[data['Price movement'] != \"#N/A\"]\n",
    "data['Headline'] = data['Headline'].apply(lambda x: x.lower())\n",
    "data['Headline'] = data['Headline'].apply((lambda x: re.sub('[^a-zA-z0-9\\s]','',x)))\n",
    "\n",
    "print(data[data['Price movement'] == 'Up'].size)\n",
    "print(data[data['Price movement'] == 'Down'].size)\n",
    "\n",
    "for idx,row in data.iterrows():\n",
    "    row[0] = row[0].replace('rt',' ')\n",
    "\n",
    "max_fatures = 2000\n",
    "tokenizer = Tokenizer(num_words=max_fatures, split=' ')\n",
    "tokenizer.fit_on_texts(data['Headline'].values)\n",
    "X = tokenizer.texts_to_sequences(data['Headline'].values)\n",
    "X = pad_sequences(X)"
   ],
   "metadata": {
    "collapsed": false,
    "pycharm": {
     "name": "#%%\n"
    }
   }
  },
  {
   "cell_type": "code",
   "execution_count": 4,
   "outputs": [
    {
     "name": "stdout",
     "output_type": "stream",
     "text": [
      "Model: \"sequential\"\n",
      "_________________________________________________________________\n",
      " Layer (type)                Output Shape              Param #   \n",
      "=================================================================\n",
      " embedding (Embedding)       (None, 32, 128)           256000    \n",
      "                                                                 \n",
      " conv1d (Conv1D)             (None, 32, 128)           65664     \n",
      "                                                                 \n",
      " max_pooling1d (MaxPooling1D  (None, 16, 128)          0         \n",
      " )                                                               \n",
      "                                                                 \n",
      " lstm (LSTM)                 (None, 196)               254800    \n",
      "                                                                 \n",
      " flatten (Flatten)           (None, 196)               0         \n",
      "                                                                 \n",
      " dense (Dense)               (None, 256)               50432     \n",
      "                                                                 \n",
      " dense_1 (Dense)             (None, 2)                 514       \n",
      "                                                                 \n",
      "=================================================================\n",
      "Total params: 627,410\n",
      "Trainable params: 627,410\n",
      "Non-trainable params: 0\n",
      "_________________________________________________________________\n",
      "None\n"
     ]
    }
   ],
   "source": [
    "from keras.layers import Conv1D, MaxPooling1D, Flatten\n",
    "\n",
    "embed_dim = 128\n",
    "lstm_out = 196\n",
    "\n",
    "model = Sequential()\n",
    "model.add(Embedding(max_fatures, embed_dim,input_length = X.shape[1]))\n",
    "model.add(Conv1D(filters=128, kernel_size=4, padding='same', activation='relu'))\n",
    "model.add(MaxPooling1D(pool_size=2))\n",
    "# model.add(Conv1D(filters=64, kernel_size=4, padding='same', activation='relu'))\n",
    "# model.add(MaxPooling1D(pool_size=2))\n",
    "# model.add(Conv1D(filters=32, kernel_size=4, padding='same', activation='relu'))\n",
    "# model.add(MaxPooling1D(pool_size=2))\n",
    "model.add(LSTM(lstm_out, dropout=0.2, recurrent_dropout=0.2))\n",
    "model.add(Flatten())\n",
    "model.add(Dense(256, activation='relu'))\n",
    "model.add(Dense(2, activation='sigmoid'))\n",
    "model.compile(loss = 'categorical_crossentropy', optimizer='adam',metrics = ['accuracy'])\n",
    "print(model.summary())"
   ],
   "metadata": {
    "collapsed": false,
    "pycharm": {
     "name": "#%%\n"
    }
   }
  },
  {
   "cell_type": "code",
   "execution_count": 5,
   "outputs": [
    {
     "name": "stdout",
     "output_type": "stream",
     "text": [
      "(2844, 32) (2844, 2)\n",
      "(1402, 32) (1402, 2)\n"
     ]
    }
   ],
   "source": [
    "Y = pd.get_dummies(data['Price movement']).values\n",
    "X_train, X_test, Y_train, Y_test = train_test_split(X,Y, test_size = 0.33, random_state = 42)\n",
    "print(X_train.shape,Y_train.shape)\n",
    "print(X_test.shape,Y_test.shape)"
   ],
   "metadata": {
    "collapsed": false,
    "pycharm": {
     "name": "#%%\n"
    }
   }
  },
  {
   "cell_type": "code",
   "execution_count": 6,
   "outputs": [
    {
     "name": "stdout",
     "output_type": "stream",
     "text": [
      "Epoch 1/20\n",
      "89/89 - 10s - loss: 0.7058 - accuracy: 0.5151 - 10s/epoch - 115ms/step\n",
      "Epoch 2/20\n",
      "89/89 - 4s - loss: 0.6835 - accuracy: 0.5144 - 4s/epoch - 45ms/step\n",
      "Epoch 3/20\n",
      "89/89 - 5s - loss: 0.7611 - accuracy: 0.4898 - 5s/epoch - 51ms/step\n",
      "Epoch 4/20\n",
      "89/89 - 3s - loss: 0.7585 - accuracy: 0.5039 - 3s/epoch - 33ms/step\n",
      "Epoch 5/20\n",
      "89/89 - 3s - loss: 0.7218 - accuracy: 0.5102 - 3s/epoch - 32ms/step\n",
      "Epoch 6/20\n",
      "89/89 - 3s - loss: 0.8074 - accuracy: 0.5025 - 3s/epoch - 30ms/step\n",
      "Epoch 7/20\n",
      "89/89 - 3s - loss: 0.7590 - accuracy: 0.4884 - 3s/epoch - 35ms/step\n",
      "Epoch 8/20\n",
      "89/89 - 4s - loss: 0.8424 - accuracy: 0.5025 - 4s/epoch - 42ms/step\n",
      "Epoch 9/20\n",
      "89/89 - 4s - loss: 0.8346 - accuracy: 0.5074 - 4s/epoch - 42ms/step\n",
      "Epoch 10/20\n",
      "89/89 - 4s - loss: 1.0964 - accuracy: 0.4884 - 4s/epoch - 41ms/step\n",
      "Epoch 11/20\n",
      "89/89 - 4s - loss: 0.9118 - accuracy: 0.5067 - 4s/epoch - 42ms/step\n",
      "Epoch 12/20\n",
      "89/89 - 4s - loss: 0.8989 - accuracy: 0.5060 - 4s/epoch - 41ms/step\n",
      "Epoch 13/20\n",
      "89/89 - 4s - loss: 1.1426 - accuracy: 0.4975 - 4s/epoch - 41ms/step\n",
      "Epoch 14/20\n",
      "89/89 - 4s - loss: 0.9206 - accuracy: 0.5011 - 4s/epoch - 44ms/step\n",
      "Epoch 15/20\n",
      "89/89 - 4s - loss: 0.9836 - accuracy: 0.5137 - 4s/epoch - 42ms/step\n",
      "Epoch 16/20\n",
      "89/89 - 4s - loss: 1.4856 - accuracy: 0.4940 - 4s/epoch - 42ms/step\n",
      "Epoch 17/20\n",
      "89/89 - 4s - loss: 0.9766 - accuracy: 0.5123 - 4s/epoch - 41ms/step\n",
      "Epoch 18/20\n",
      "89/89 - 4s - loss: 0.9663 - accuracy: 0.5028 - 4s/epoch - 40ms/step\n",
      "Epoch 19/20\n",
      "89/89 - 4s - loss: 1.2906 - accuracy: 0.5039 - 4s/epoch - 43ms/step\n",
      "Epoch 20/20\n",
      "89/89 - 4s - loss: 0.8749 - accuracy: 0.5260 - 4s/epoch - 41ms/step\n"
     ]
    },
    {
     "data": {
      "text/plain": "<keras.callbacks.History at 0x257b76be070>"
     },
     "execution_count": 6,
     "metadata": {},
     "output_type": "execute_result"
    }
   ],
   "source": [
    "batch_size = 32\n",
    "model.fit(X_train, Y_train, epochs=20, batch_size=batch_size, verbose = 2)"
   ],
   "metadata": {
    "collapsed": false,
    "pycharm": {
     "name": "#%%\n"
    }
   }
  },
  {
   "cell_type": "code",
   "execution_count": 7,
   "outputs": [
    {
     "name": "stdout",
     "output_type": "stream",
     "text": [
      "44/44 - 1s - loss: 0.9504 - accuracy: 0.4879 - 1s/epoch - 33ms/step\n",
      "Accuracy: 48.79%\n"
     ]
    }
   ],
   "source": [
    "# Final evaluation of the model\n",
    "scores = model.evaluate(X_test, Y_test, verbose=2)\n",
    "print(\"Accuracy: %.2f%%\" % (scores[1]*100))"
   ],
   "metadata": {
    "collapsed": false,
    "pycharm": {
     "name": "#%%\n"
    }
   }
  },
  {
   "cell_type": "code",
   "execution_count": 44,
   "outputs": [],
   "source": [],
   "metadata": {
    "collapsed": false,
    "pycharm": {
     "name": "#%%\n"
    }
   }
  },
  {
   "cell_type": "code",
   "execution_count": null,
   "outputs": [],
   "source": [],
   "metadata": {
    "collapsed": false,
    "pycharm": {
     "name": "#%%\n"
    }
   }
  }
 ],
 "metadata": {
  "kernelspec": {
   "display_name": "Python 3",
   "language": "python",
   "name": "python3"
  },
  "language_info": {
   "codemirror_mode": {
    "name": "ipython",
    "version": 2
   },
   "file_extension": ".py",
   "mimetype": "text/x-python",
   "name": "python",
   "nbconvert_exporter": "python",
   "pygments_lexer": "ipython2",
   "version": "2.7.6"
  }
 },
 "nbformat": 4,
 "nbformat_minor": 0
}