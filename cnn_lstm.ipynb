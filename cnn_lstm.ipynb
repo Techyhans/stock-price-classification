{
 "cells": [
  {
   "cell_type": "code",
   "execution_count": 30,
   "outputs": [],
   "source": [
    "# This Python 3 environment comes with many helpful analytics libraries installed\n",
    "# It is defined by the kaggle/python docker image: https://github.com/kaggle/docker-python\n",
    "# For example, here's several helpful packages to load in\n",
    "\n",
    "import numpy as np # linear algebra\n",
    "import pandas as pd # data processing, CSV file I/O (e.g. pd.read_csv)\n",
    "\n",
    "from sklearn.feature_extraction.text import CountVectorizer\n",
    "from keras.preprocessing.text import Tokenizer\n",
    "from keras.preprocessing.sequence import pad_sequences\n",
    "from keras.models import Sequential\n",
    "from keras.layers import Dense, Embedding, LSTM, SpatialDropout1D\n",
    "from sklearn.model_selection import train_test_split\n",
    "from keras.utils.np_utils import to_categorical\n",
    "import re\n",
    "\n",
    "# Input data files are available in the \"../input/\" directory.\n",
    "# For example, running this (by clicking run or pressing Shift+Enter) will list the files in the input directory"
   ],
   "metadata": {
    "collapsed": false,
    "pycharm": {
     "name": "#%%\n"
    }
   }
  },
  {
   "cell_type": "code",
   "execution_count": 31,
   "outputs": [],
   "source": [
    "data = pd.read_csv('data_final.csv')\n",
    "# Keeping only the neccessary columns\n",
    "data = data[['Headline','Price movement']]"
   ],
   "metadata": {
    "collapsed": false,
    "pycharm": {
     "name": "#%%\n"
    }
   }
  },
  {
   "cell_type": "code",
   "execution_count": 32,
   "outputs": [
    {
     "name": "stdout",
     "output_type": "stream",
     "text": [
      "4490\n",
      "3724\n"
     ]
    }
   ],
   "source": [
    "data = data[data['Price movement'] != \"#N/A\"]\n",
    "data['Headline'] = data['Headline'].apply(lambda x: x.lower())\n",
    "data['Headline'] = data['Headline'].apply((lambda x: re.sub('[^a-zA-z0-9\\s]','',x)))\n",
    "\n",
    "print(data[data['Price movement'] == 'Up'].size)\n",
    "print(data[data['Price movement'] == 'Down'].size)\n",
    "\n",
    "for idx,row in data.iterrows():\n",
    "    row[0] = row[0].replace('rt',' ')\n",
    "\n",
    "max_fatures = 2000\n",
    "tokenizer = Tokenizer(num_words=max_fatures, split=' ')\n",
    "tokenizer.fit_on_texts(data['Headline'].values)\n",
    "X = tokenizer.texts_to_sequences(data['Headline'].values)\n",
    "X = pad_sequences(X)"
   ],
   "metadata": {
    "collapsed": false,
    "pycharm": {
     "name": "#%%\n"
    }
   }
  },
  {
   "cell_type": "code",
   "execution_count": 33,
   "outputs": [
    {
     "name": "stdout",
     "output_type": "stream",
     "text": [
      "Model: \"sequential_4\"\n",
      "_________________________________________________________________\n",
      " Layer (type)                Output Shape              Param #   \n",
      "=================================================================\n",
      " embedding_4 (Embedding)     (None, 32, 128)           256000    \n",
      "                                                                 \n",
      " conv1d_4 (Conv1D)           (None, 32, 128)           65664     \n",
      "                                                                 \n",
      " max_pooling1d_4 (MaxPooling  (None, 16, 128)          0         \n",
      " 1D)                                                             \n",
      "                                                                 \n",
      " lstm_4 (LSTM)               (None, 196)               254800    \n",
      "                                                                 \n",
      " flatten_4 (Flatten)         (None, 196)               0         \n",
      "                                                                 \n",
      " dense_8 (Dense)             (None, 256)               50432     \n",
      "                                                                 \n",
      " dense_9 (Dense)             (None, 2)                 514       \n",
      "                                                                 \n",
      "=================================================================\n",
      "Total params: 627,410\n",
      "Trainable params: 627,410\n",
      "Non-trainable params: 0\n",
      "_________________________________________________________________\n",
      "None\n"
     ]
    }
   ],
   "source": [
    "from keras.layers import Conv1D, MaxPooling1D, Flatten\n",
    "import tensorflow as tf\n",
    "\n",
    "embed_dim = 128\n",
    "lstm_out = 196\n",
    "\n",
    "model = Sequential()\n",
    "model.add(Embedding(max_fatures, embed_dim,input_length = X.shape[1]))\n",
    "model.add(Conv1D(filters=128, kernel_size=4, padding='same', activation='relu'))\n",
    "model.add(MaxPooling1D(pool_size=2))\n",
    "# model.add(Conv1D(filters=64, kernel_size=4, padding='same', activation='relu'))\n",
    "# model.add(MaxPooling1D(pool_size=2))\n",
    "# model.add(Conv1D(filters=32, kernel_size=4, padding='same', activation='relu'))\n",
    "# model.add(MaxPooling1D(pool_size=2))\n",
    "model.add(LSTM(lstm_out, dropout=0.2, recurrent_dropout=0.2))\n",
    "model.add(Flatten())\n",
    "model.add(Dense(256, activation='relu'))\n",
    "model.add(Dense(2, activation='sigmoid'))\n",
    "model.compile(loss = 'binary_crossentropy', optimizer='adam',metrics = ['accuracy', tf.keras.metrics.Precision(), tf.keras.metrics.Recall()])\n",
    "print(model.summary())"
   ],
   "metadata": {
    "collapsed": false,
    "pycharm": {
     "name": "#%%\n"
    }
   }
  },
  {
   "cell_type": "code",
   "execution_count": 34,
   "outputs": [
    {
     "name": "stdout",
     "output_type": "stream",
     "text": [
      "(2844, 32) (2844, 2)\n",
      "(1402, 32) (1402, 2)\n"
     ]
    }
   ],
   "source": [
    "Y = pd.get_dummies(data['Price movement']).values\n",
    "X_train, X_test, Y_train, Y_test = train_test_split(X,Y, test_size = 0.33, random_state = 42)\n",
    "print(X_train.shape,Y_train.shape)\n",
    "print(X_test.shape,Y_test.shape)"
   ],
   "metadata": {
    "collapsed": false,
    "pycharm": {
     "name": "#%%\n"
    }
   }
  },
  {
   "cell_type": "code",
   "execution_count": 35,
   "outputs": [
    {
     "name": "stdout",
     "output_type": "stream",
     "text": [
      "Epoch 1/20\n",
      "89/89 - 11s - loss: 0.6894 - accuracy: 0.5334 - precision_4: 0.5285 - recall_4: 0.5269 - 11s/epoch - 126ms/step\n",
      "Epoch 2/20\n",
      "89/89 - 3s - loss: 0.6492 - accuracy: 0.6027 - precision_4: 0.5995 - recall_4: 0.6012 - 3s/epoch - 37ms/step\n",
      "Epoch 3/20\n",
      "89/89 - 3s - loss: 0.5143 - accuracy: 0.7342 - precision_4: 0.7322 - recall_4: 0.7418 - 3s/epoch - 37ms/step\n",
      "Epoch 4/20\n",
      "89/89 - 3s - loss: 0.3716 - accuracy: 0.8228 - precision_4: 0.8180 - recall_4: 0.8267 - 3s/epoch - 37ms/step\n",
      "Epoch 5/20\n",
      "89/89 - 3s - loss: 0.2293 - accuracy: 0.8987 - precision_4: 0.8991 - recall_4: 0.9086 - 3s/epoch - 37ms/step\n",
      "Epoch 6/20\n",
      "89/89 - 3s - loss: 0.1717 - accuracy: 0.9321 - precision_4: 0.9189 - recall_4: 0.9410 - 3s/epoch - 37ms/step\n",
      "Epoch 7/20\n",
      "89/89 - 3s - loss: 0.1158 - accuracy: 0.9490 - precision_4: 0.9474 - recall_4: 0.9647 - 3s/epoch - 38ms/step\n",
      "Epoch 8/20\n",
      "89/89 - 3s - loss: 0.1005 - accuracy: 0.9599 - precision_4: 0.9534 - recall_4: 0.9694 - 3s/epoch - 38ms/step\n",
      "Epoch 9/20\n",
      "89/89 - 3s - loss: 0.0808 - accuracy: 0.9617 - precision_4: 0.9692 - recall_4: 0.9734 - 3s/epoch - 37ms/step\n",
      "Epoch 10/20\n",
      "89/89 - 3s - loss: 0.0704 - accuracy: 0.9645 - precision_4: 0.9699 - recall_4: 0.9756 - 3s/epoch - 37ms/step\n",
      "Epoch 11/20\n",
      "89/89 - 3s - loss: 0.0591 - accuracy: 0.9638 - precision_4: 0.9742 - recall_4: 0.9760 - 3s/epoch - 37ms/step\n",
      "Epoch 12/20\n",
      "89/89 - 3s - loss: 0.0512 - accuracy: 0.9666 - precision_4: 0.9800 - recall_4: 0.9796 - 3s/epoch - 37ms/step\n",
      "Epoch 13/20\n",
      "89/89 - 3s - loss: 0.0416 - accuracy: 0.9719 - precision_4: 0.9840 - recall_4: 0.9847 - 3s/epoch - 37ms/step\n",
      "Epoch 14/20\n",
      "89/89 - 3s - loss: 0.0554 - accuracy: 0.9645 - precision_4: 0.9803 - recall_4: 0.9782 - 3s/epoch - 38ms/step\n",
      "Epoch 15/20\n",
      "89/89 - 3s - loss: 0.0369 - accuracy: 0.9705 - precision_4: 0.9858 - recall_4: 0.9840 - 3s/epoch - 37ms/step\n",
      "Epoch 16/20\n",
      "89/89 - 3s - loss: 0.0338 - accuracy: 0.9757 - precision_4: 0.9865 - recall_4: 0.9865 - 3s/epoch - 37ms/step\n",
      "Epoch 17/20\n",
      "89/89 - 3s - loss: 0.0360 - accuracy: 0.9729 - precision_4: 0.9847 - recall_4: 0.9832 - 3s/epoch - 38ms/step\n",
      "Epoch 18/20\n",
      "89/89 - 3s - loss: 0.0324 - accuracy: 0.9771 - precision_4: 0.9858 - recall_4: 0.9854 - 3s/epoch - 37ms/step\n",
      "Epoch 19/20\n",
      "89/89 - 3s - loss: 0.0579 - accuracy: 0.9641 - precision_4: 0.9799 - recall_4: 0.9774 - 3s/epoch - 37ms/step\n",
      "Epoch 20/20\n",
      "89/89 - 3s - loss: 0.0419 - accuracy: 0.9712 - precision_4: 0.9829 - recall_4: 0.9825 - 3s/epoch - 38ms/step\n"
     ]
    }
   ],
   "source": [
    "batch_size = 32\n",
    "epochs = 20\n",
    "history = model.fit(X_train, Y_train, epochs=epochs, batch_size=batch_size, verbose = 2)"
   ],
   "metadata": {
    "collapsed": false,
    "pycharm": {
     "name": "#%%\n"
    }
   }
  },
  {
   "cell_type": "code",
   "execution_count": 36,
   "outputs": [
    {
     "name": "stdout",
     "output_type": "stream",
     "text": [
      "44/44 - 2s - loss: 2.5042 - accuracy: 0.6191 - precision_4: 0.6182 - recall_4: 0.6091 - 2s/epoch - 34ms/step\n",
      "Accuracy: 61.91%\n"
     ]
    }
   ],
   "source": [
    "# Final evaluation of the model\n",
    "scores = model.evaluate(X_test, Y_test, verbose=2)\n",
    "print(\"Accuracy: %.2f%%\" % (scores[1]*100))"
   ],
   "metadata": {
    "collapsed": false,
    "pycharm": {
     "name": "#%%\n"
    }
   }
  },
  {
   "cell_type": "code",
   "execution_count": 38,
   "outputs": [
    {
     "data": {
      "text/plain": "<Figure size 576x576 with 2 Axes>",
      "image/png": "[encoded data removed]"
     },
     "metadata": {
      "needs_background": "light"
     },
     "output_type": "display_data"
    }
   ],
   "source": [
    "import matplotlib.pyplot as plt\n",
    "\n",
    "acc = history.history['accuracy']\n",
    "\n",
    "loss = history.history['loss']\n",
    "\n",
    "epochs_range = range(epochs)\n",
    "\n",
    "plt.figure(figsize=(8, 8))\n",
    "plt.subplot(1, 2, 1)\n",
    "plt.plot(epochs_range, acc, label='Accuracy')\n",
    "plt.legend(loc='lower right')\n",
    "plt.title('Accuracy')\n",
    "\n",
    "plt.subplot(1, 2, 2)\n",
    "plt.plot(epochs_range, loss, label='Loss')\n",
    "plt.legend(loc='upper right')\n",
    "plt.title('Loss')\n",
    "plt.show()"
   ],
   "metadata": {
    "collapsed": false,
    "pycharm": {
     "name": "#%%\n"
    }
   }
  },
  {
   "cell_type": "code",
   "execution_count": 21,
   "outputs": [],
   "source": [],
   "metadata": {
    "collapsed": false,
    "pycharm": {
     "name": "#%%\n"
    }
   }
  },
  {
   "cell_type": "code",
   "execution_count": null,
   "outputs": [],
   "source": [],
   "metadata": {
    "collapsed": false,
    "pycharm": {
     "name": "#%%\n"
    }
   }
  }
 ],
 "metadata": {
  "kernelspec": {
   "display_name": "Python 3",
   "language": "python",
   "name": "python3"
  },
  "language_info": {
   "codemirror_mode": {
    "name": "ipython",
    "version": 2
   },
   "file_extension": ".py",
   "mimetype": "text/x-python",
   "name": "python",
   "nbconvert_exporter": "python",
   "pygments_lexer": "ipython2",
   "version": "2.7.6"
  }
 },
 "nbformat": 4,
 "nbformat_minor": 0
}