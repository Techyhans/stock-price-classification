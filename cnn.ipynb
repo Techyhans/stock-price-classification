{
 "cells": [
  {
   "cell_type": "code",
   "execution_count": 73,
   "outputs": [],
   "source": [
    "# This Python 3 environment comes with many helpful analytics libraries installed\n",
    "# It is defined by the kaggle/python docker image: https://github.com/kaggle/docker-python\n",
    "# For example, here's several helpful packages to load in\n",
    "\n",
    "import numpy as np # linear algebra\n",
    "import pandas as pd # data processing, CSV file I/O (e.g. pd.read_csv)\n",
    "\n",
    "from sklearn.feature_extraction.text import CountVectorizer\n",
    "from keras.preprocessing.text import Tokenizer\n",
    "from keras.preprocessing.sequence import pad_sequences\n",
    "from keras.models import Sequential\n",
    "from keras.layers import Dense, Embedding, LSTM, SpatialDropout1D\n",
    "from sklearn.model_selection import train_test_split\n",
    "from keras.utils.np_utils import to_categorical\n",
    "import re\n",
    "\n",
    "# Input data files are available in the \"../input/\" directory.\n",
    "# For example, running this (by clicking run or pressing Shift+Enter) will list the files in the input directory"
   ],
   "metadata": {
    "collapsed": false,
    "pycharm": {
     "name": "#%%\n"
    }
   }
  },
  {
   "cell_type": "code",
   "execution_count": 74,
   "outputs": [],
   "source": [
    "data = pd.read_csv('data_final.csv')\n",
    "# Keeping only the neccessary columns\n",
    "data = data[['Headline','Price movement']]"
   ],
   "metadata": {
    "collapsed": false,
    "pycharm": {
     "name": "#%%\n"
    }
   }
  },
  {
   "cell_type": "code",
   "execution_count": 75,
   "outputs": [
    {
     "name": "stdout",
     "output_type": "stream",
     "text": [
      "4490\n",
      "3724\n"
     ]
    }
   ],
   "source": [
    "data = data[data['Price movement'] != \"#N/A\"]\n",
    "data['Headline'] = data['Headline'].apply(lambda x: x.lower())\n",
    "data['Headline'] = data['Headline'].apply((lambda x: re.sub('[^a-zA-z0-9\\s]','',x)))\n",
    "\n",
    "print(data[data['Price movement'] == 'Up'].size)\n",
    "print(data[data['Price movement'] == 'Down'].size)\n",
    "\n",
    "for idx,row in data.iterrows():\n",
    "    row[0] = row[0].replace('rt',' ')\n",
    "\n",
    "max_fatures = 2000\n",
    "tokenizer = Tokenizer(num_words=max_fatures, split=' ')\n",
    "tokenizer.fit_on_texts(data['Headline'].values)\n",
    "X = tokenizer.texts_to_sequences(data['Headline'].values)\n",
    "X = pad_sequences(X)"
   ],
   "metadata": {
    "collapsed": false,
    "pycharm": {
     "name": "#%%\n"
    }
   }
  },
  {
   "cell_type": "code",
   "execution_count": 76,
   "outputs": [
    {
     "name": "stdout",
     "output_type": "stream",
     "text": [
      "Model: \"sequential_7\"\n",
      "_________________________________________________________________\n",
      " Layer (type)                Output Shape              Param #   \n",
      "=================================================================\n",
      " embedding_7 (Embedding)     (None, 32, 128)           256000    \n",
      "                                                                 \n",
      " conv1d_21 (Conv1D)          (None, 32, 128)           65664     \n",
      "                                                                 \n",
      " max_pooling1d_21 (MaxPoolin  (None, 16, 128)          0         \n",
      " g1D)                                                            \n",
      "                                                                 \n",
      " conv1d_22 (Conv1D)          (None, 16, 64)            32832     \n",
      "                                                                 \n",
      " max_pooling1d_22 (MaxPoolin  (None, 8, 64)            0         \n",
      " g1D)                                                            \n",
      "                                                                 \n",
      " conv1d_23 (Conv1D)          (None, 8, 32)             8224      \n",
      "                                                                 \n",
      " max_pooling1d_23 (MaxPoolin  (None, 4, 32)            0         \n",
      " g1D)                                                            \n",
      "                                                                 \n",
      " flatten_7 (Flatten)         (None, 128)               0         \n",
      "                                                                 \n",
      " dense_14 (Dense)            (None, 256)               33024     \n",
      "                                                                 \n",
      " dense_15 (Dense)            (None, 2)                 514       \n",
      "                                                                 \n",
      "=================================================================\n",
      "Total params: 396,258\n",
      "Trainable params: 396,258\n",
      "Non-trainable params: 0\n",
      "_________________________________________________________________\n",
      "None\n"
     ]
    }
   ],
   "source": [
    "from keras.layers import Conv1D, MaxPooling1D, Flatten\n",
    "import tensorflow as tf\n",
    "\n",
    "embed_dim = 128\n",
    "lstm_out = 196\n",
    "\n",
    "model = Sequential()\n",
    "model.add(Embedding(max_fatures, embed_dim,input_length = X.shape[1]))\n",
    "model.add(Conv1D(filters=128, kernel_size=4, padding='same', activation='relu'))\n",
    "model.add(MaxPooling1D(pool_size=2))\n",
    "model.add(Conv1D(filters=64, kernel_size=4, padding='same', activation='relu'))\n",
    "model.add(MaxPooling1D(pool_size=2))\n",
    "model.add(Conv1D(filters=32, kernel_size=4, padding='same', activation='relu'))\n",
    "model.add(MaxPooling1D(pool_size=2))\n",
    "model.add(Flatten())\n",
    "model.add(Dense(256, activation='relu'))\n",
    "model.add(Dense(2, activation='sigmoid'))\n",
    "model.compile(loss = 'binary_crossentropy', optimizer='adam',metrics = ['accuracy', tf.keras.metrics.Precision(), tf.keras.metrics.Recall()])\n",
    "print(model.summary())"
   ],
   "metadata": {
    "collapsed": false,
    "pycharm": {
     "name": "#%%\n"
    }
   }
  },
  {
   "cell_type": "code",
   "execution_count": 77,
   "outputs": [
    {
     "name": "stdout",
     "output_type": "stream",
     "text": [
      "(2844, 32) (2844, 2)\n",
      "(1402, 32) (1402, 2)\n"
     ]
    }
   ],
   "source": [
    "Y = pd.get_dummies(data['Price movement']).values\n",
    "X_train, X_test, Y_train, Y_test = train_test_split(X,Y, test_size = 0.33, random_state = 42)\n",
    "print(X_train.shape,Y_train.shape)\n",
    "print(X_test.shape,Y_test.shape)"
   ],
   "metadata": {
    "collapsed": false,
    "pycharm": {
     "name": "#%%\n"
    }
   }
  },
  {
   "cell_type": "code",
   "execution_count": 78,
   "outputs": [
    {
     "name": "stdout",
     "output_type": "stream",
     "text": [
      "Epoch 1/20\n",
      "89/89 - 1s - loss: 0.6873 - accuracy: 0.5359 - precision_8: 0.5323 - recall_8: 0.4803 - 1s/epoch - 17ms/step\n",
      "Epoch 2/20\n",
      "89/89 - 1s - loss: 0.6351 - accuracy: 0.6329 - precision_8: 0.6361 - recall_8: 0.6143 - 642ms/epoch - 7ms/step\n",
      "Epoch 3/20\n",
      "89/89 - 1s - loss: 0.3839 - accuracy: 0.8245 - precision_8: 0.8233 - recall_8: 0.8230 - 709ms/epoch - 8ms/step\n",
      "Epoch 4/20\n",
      "89/89 - 1s - loss: 0.1915 - accuracy: 0.9314 - precision_8: 0.9243 - recall_8: 0.9334 - 639ms/epoch - 7ms/step\n",
      "Epoch 5/20\n",
      "89/89 - 1s - loss: 0.1191 - accuracy: 0.9560 - precision_8: 0.9512 - recall_8: 0.9585 - 698ms/epoch - 8ms/step\n",
      "Epoch 6/20\n",
      "89/89 - 1s - loss: 0.0828 - accuracy: 0.9698 - precision_8: 0.9655 - recall_8: 0.9792 - 732ms/epoch - 8ms/step\n",
      "Epoch 7/20\n",
      "89/89 - 1s - loss: 0.0661 - accuracy: 0.9666 - precision_8: 0.9698 - recall_8: 0.9811 - 636ms/epoch - 7ms/step\n",
      "Epoch 8/20\n",
      "89/89 - 1s - loss: 0.0511 - accuracy: 0.9722 - precision_8: 0.9782 - recall_8: 0.9811 - 713ms/epoch - 8ms/step\n",
      "Epoch 9/20\n",
      "89/89 - 1s - loss: 0.0398 - accuracy: 0.9712 - precision_8: 0.9854 - recall_8: 0.9822 - 684ms/epoch - 8ms/step\n",
      "Epoch 10/20\n",
      "89/89 - 1s - loss: 0.0325 - accuracy: 0.9740 - precision_8: 0.9854 - recall_8: 0.9847 - 738ms/epoch - 8ms/step\n",
      "Epoch 11/20\n",
      "89/89 - 1s - loss: 0.0252 - accuracy: 0.9687 - precision_8: 0.9894 - recall_8: 0.9869 - 700ms/epoch - 8ms/step\n",
      "Epoch 12/20\n",
      "89/89 - 1s - loss: 0.0238 - accuracy: 0.9698 - precision_8: 0.9880 - recall_8: 0.9873 - 727ms/epoch - 8ms/step\n",
      "Epoch 13/20\n",
      "89/89 - 1s - loss: 0.0235 - accuracy: 0.9775 - precision_8: 0.9873 - recall_8: 0.9883 - 638ms/epoch - 7ms/step\n",
      "Epoch 14/20\n",
      "89/89 - 1s - loss: 0.0191 - accuracy: 0.9775 - precision_8: 0.9884 - recall_8: 0.9891 - 760ms/epoch - 9ms/step\n",
      "Epoch 15/20\n",
      "89/89 - 1s - loss: 0.0191 - accuracy: 0.9775 - precision_8: 0.9884 - recall_8: 0.9887 - 670ms/epoch - 8ms/step\n",
      "Epoch 16/20\n",
      "89/89 - 1s - loss: 0.0176 - accuracy: 0.9740 - precision_8: 0.9902 - recall_8: 0.9887 - 738ms/epoch - 8ms/step\n",
      "Epoch 17/20\n",
      "89/89 - 1s - loss: 0.0170 - accuracy: 0.9680 - precision_8: 0.9902 - recall_8: 0.9898 - 767ms/epoch - 9ms/step\n",
      "Epoch 18/20\n",
      "89/89 - 1s - loss: 0.0174 - accuracy: 0.9786 - precision_8: 0.9894 - recall_8: 0.9894 - 758ms/epoch - 9ms/step\n",
      "Epoch 19/20\n",
      "89/89 - 1s - loss: 0.0169 - accuracy: 0.9743 - precision_8: 0.9898 - recall_8: 0.9891 - 1s/epoch - 12ms/step\n",
      "Epoch 20/20\n",
      "89/89 - 1s - loss: 0.0176 - accuracy: 0.9775 - precision_8: 0.9894 - recall_8: 0.9880 - 1s/epoch - 13ms/step\n"
     ]
    }
   ],
   "source": [
    "batch_size = 32\n",
    "epochs = 20\n",
    "history = model.fit(X_train, Y_train, epochs=epochs, batch_size=batch_size, verbose = 2)"
   ],
   "metadata": {
    "collapsed": false,
    "pycharm": {
     "name": "#%%\n"
    }
   }
  },
  {
   "cell_type": "code",
   "execution_count": 79,
   "outputs": [
    {
     "name": "stdout",
     "output_type": "stream",
     "text": [
      "44/44 - 1s - loss: 2.3850 - accuracy: 0.6020 - precision_8: 0.6044 - recall_8: 0.5658 - 1s/epoch - 27ms/step\n",
      "Accuracy: 60.20%\n"
     ]
    }
   ],
   "source": [
    "# Final evaluation of the model\n",
    "scores = model.evaluate(X_test, Y_test, verbose=2)\n",
    "print(\"Accuracy: %.2f%%\" % (scores[1]*100))"
   ],
   "metadata": {
    "collapsed": false,
    "pycharm": {
     "name": "#%%\n"
    }
   }
  },
  {
   "cell_type": "code",
   "execution_count": 80,
   "outputs": [
    {
     "data": {
      "text/plain": "<Figure size 576x576 with 2 Axes>",
      "image/png": "[encoded data removed]"
     },
     "metadata": {
      "needs_background": "light"
     },
     "output_type": "display_data"
    }
   ],
   "source": [
    "import matplotlib.pyplot as plt\n",
    "\n",
    "acc = history.history['accuracy']\n",
    "\n",
    "loss = history.history['loss']\n",
    "\n",
    "epochs_range = range(epochs)\n",
    "\n",
    "plt.figure(figsize=(8, 8))\n",
    "plt.subplot(1, 2, 1)\n",
    "plt.plot(epochs_range, acc, label='Accuracy')\n",
    "plt.legend(loc='lower right')\n",
    "plt.title('Accuracy')\n",
    "\n",
    "plt.subplot(1, 2, 2)\n",
    "plt.plot(epochs_range, loss, label='Loss')\n",
    "plt.legend(loc='upper right')\n",
    "plt.title('Loss')\n",
    "plt.show()"
   ],
   "metadata": {
    "collapsed": false,
    "pycharm": {
     "name": "#%%\n"
    }
   }
  },
  {
   "cell_type": "code",
   "execution_count": 51,
   "outputs": [],
   "source": [],
   "metadata": {
    "collapsed": false,
    "pycharm": {
     "name": "#%%\n"
    }
   }
  },
  {
   "cell_type": "code",
   "execution_count": 39,
   "outputs": [],
   "source": [],
   "metadata": {
    "collapsed": false,
    "pycharm": {
     "name": "#%%\n"
    }
   }
  },
  {
   "cell_type": "code",
   "execution_count": null,
   "outputs": [],
   "source": [],
   "metadata": {
    "collapsed": false,
    "pycharm": {
     "name": "#%%\n"
    }
   }
  }
 ],
 "metadata": {
  "kernelspec": {
   "display_name": "Python 3",
   "language": "python",
   "name": "python3"
  },
  "language_info": {
   "codemirror_mode": {
    "name": "ipython",
    "version": 2
   },
   "file_extension": ".py",
   "mimetype": "text/x-python",
   "name": "python",
   "nbconvert_exporter": "python",
   "pygments_lexer": "ipython2",
   "version": "2.7.6"
  }
 },
 "nbformat": 4,
 "nbformat_minor": 0
}