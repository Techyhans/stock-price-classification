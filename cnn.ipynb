{
 "cells": [
  {
   "cell_type": "code",
   "execution_count": 56,
   "outputs": [],
   "source": [
    "# This Python 3 environment comes with many helpful analytics libraries installed\n",
    "# It is defined by the kaggle/python docker image: https://github.com/kaggle/docker-python\n",
    "# For example, here's several helpful packages to load in\n",
    "\n",
    "import numpy as np # linear algebra\n",
    "import pandas as pd # data processing, CSV file I/O (e.g. pd.read_csv)\n",
    "\n",
    "from sklearn.feature_extraction.text import CountVectorizer\n",
    "from keras.preprocessing.text import Tokenizer\n",
    "from keras.preprocessing.sequence import pad_sequences\n",
    "from keras.models import Sequential\n",
    "from keras.layers import Dense, Embedding, LSTM, SpatialDropout1D\n",
    "from sklearn.model_selection import train_test_split\n",
    "from keras.utils.np_utils import to_categorical\n",
    "import re\n",
    "\n",
    "# Input data files are available in the \"../input/\" directory.\n",
    "# For example, running this (by clicking run or pressing Shift+Enter) will list the files in the input directory"
   ],
   "metadata": {
    "collapsed": false,
    "pycharm": {
     "name": "#%%\n"
    }
   }
  },
  {
   "cell_type": "code",
   "execution_count": 57,
   "outputs": [],
   "source": [
    "data = pd.read_csv('data_final.csv')\n",
    "# Keeping only the neccessary columns\n",
    "data = data[['Headline','Price movement']]"
   ],
   "metadata": {
    "collapsed": false,
    "pycharm": {
     "name": "#%%\n"
    }
   }
  },
  {
   "cell_type": "code",
   "execution_count": 58,
   "outputs": [
    {
     "name": "stdout",
     "output_type": "stream",
     "text": [
      "6040\n",
      "4916\n"
     ]
    }
   ],
   "source": [
    "data = data[data['Price movement'] != \"#N/A\"]\n",
    "data['Headline'] = data['Headline'].apply(lambda x: x.lower())\n",
    "data['Headline'] = data['Headline'].apply((lambda x: re.sub('[^a-zA-z0-9\\s]','',x)))\n",
    "\n",
    "print(data[data['Price movement'] == 'Up'].size)\n",
    "print(data[data['Price movement'] == 'Down'].size)\n",
    "\n",
    "for idx,row in data.iterrows():\n",
    "    row[0] = row[0].replace('rt',' ')\n",
    "\n",
    "max_fatures = 2000\n",
    "tokenizer = Tokenizer(num_words=max_fatures, split=' ')\n",
    "tokenizer.fit_on_texts(data['Headline'].values)\n",
    "X = tokenizer.texts_to_sequences(data['Headline'].values)\n",
    "X = pad_sequences(X)"
   ],
   "metadata": {
    "collapsed": false,
    "pycharm": {
     "name": "#%%\n"
    }
   }
  },
  {
   "cell_type": "code",
   "execution_count": 59,
   "outputs": [
    {
     "name": "stdout",
     "output_type": "stream",
     "text": [
      "Model: \"sequential_8\"\n",
      "_________________________________________________________________\n",
      " Layer (type)                Output Shape              Param #   \n",
      "=================================================================\n",
      " embedding_8 (Embedding)     (None, 35, 128)           256000    \n",
      "                                                                 \n",
      " conv1d_15 (Conv1D)          (None, 35, 128)           65664     \n",
      "                                                                 \n",
      " max_pooling1d_12 (MaxPoolin  (None, 17, 128)          0         \n",
      " g1D)                                                            \n",
      "                                                                 \n",
      " conv1d_16 (Conv1D)          (None, 17, 64)            32832     \n",
      "                                                                 \n",
      " max_pooling1d_13 (MaxPoolin  (None, 8, 64)            0         \n",
      " g1D)                                                            \n",
      "                                                                 \n",
      " conv1d_17 (Conv1D)          (None, 8, 32)             8224      \n",
      "                                                                 \n",
      " max_pooling1d_14 (MaxPoolin  (None, 4, 32)            0         \n",
      " g1D)                                                            \n",
      "                                                                 \n",
      " flatten_4 (Flatten)         (None, 128)               0         \n",
      "                                                                 \n",
      " dense_12 (Dense)            (None, 256)               33024     \n",
      "                                                                 \n",
      " dense_13 (Dense)            (None, 2)                 514       \n",
      "                                                                 \n",
      "=================================================================\n",
      "Total params: 396,258\n",
      "Trainable params: 396,258\n",
      "Non-trainable params: 0\n",
      "_________________________________________________________________\n",
      "None\n"
     ]
    }
   ],
   "source": [
    "from keras.layers import Conv1D, MaxPooling1D, Flatten\n",
    "\n",
    "embed_dim = 128\n",
    "lstm_out = 196\n",
    "\n",
    "model = Sequential()\n",
    "model.add(Embedding(max_fatures, embed_dim,input_length = X.shape[1]))\n",
    "model.add(Conv1D(filters=128, kernel_size=4, padding='same', activation='relu'))\n",
    "model.add(MaxPooling1D(pool_size=2))\n",
    "model.add(Conv1D(filters=64, kernel_size=4, padding='same', activation='relu'))\n",
    "model.add(MaxPooling1D(pool_size=2))\n",
    "model.add(Conv1D(filters=32, kernel_size=4, padding='same', activation='relu'))\n",
    "model.add(MaxPooling1D(pool_size=2))\n",
    "model.add(Flatten())\n",
    "model.add(Dense(256, activation='relu'))\n",
    "model.add(Dense(2, activation='sigmoid'))\n",
    "model.compile(loss = 'categorical_crossentropy', optimizer='adam',metrics = ['accuracy'])\n",
    "print(model.summary())"
   ],
   "metadata": {
    "collapsed": false,
    "pycharm": {
     "name": "#%%\n"
    }
   }
  },
  {
   "cell_type": "code",
   "execution_count": 60,
   "outputs": [
    {
     "name": "stdout",
     "output_type": "stream",
     "text": [
      "(3778, 35) (3778, 2)\n",
      "(1862, 35) (1862, 2)\n"
     ]
    }
   ],
   "source": [
    "Y = pd.get_dummies(data['Price movement']).values\n",
    "X_train, X_test, Y_train, Y_test = train_test_split(X,Y, test_size = 0.33, random_state = 42)\n",
    "print(X_train.shape,Y_train.shape)\n",
    "print(X_test.shape,Y_test.shape)"
   ],
   "metadata": {
    "collapsed": false,
    "pycharm": {
     "name": "#%%\n"
    }
   }
  },
  {
   "cell_type": "code",
   "execution_count": 61,
   "outputs": [
    {
     "name": "stdout",
     "output_type": "stream",
     "text": [
      "Epoch 1/20\n",
      "119/119 - 1s - loss: 2.9651 - accuracy: 0.5095 - 1s/epoch - 12ms/step\n",
      "Epoch 2/20\n",
      "119/119 - 1s - loss: 1119.4203 - accuracy: 0.5061 - 946ms/epoch - 8ms/step\n",
      "Epoch 3/20\n",
      "119/119 - 1s - loss: 16986.2129 - accuracy: 0.5185 - 848ms/epoch - 7ms/step\n",
      "Epoch 4/20\n",
      "119/119 - 1s - loss: 208129.0312 - accuracy: 0.4966 - 869ms/epoch - 7ms/step\n",
      "Epoch 5/20\n",
      "119/119 - 1s - loss: 1255712.1250 - accuracy: 0.5042 - 869ms/epoch - 7ms/step\n",
      "Epoch 6/20\n",
      "119/119 - 1s - loss: 5525376.0000 - accuracy: 0.5016 - 891ms/epoch - 7ms/step\n",
      "Epoch 7/20\n",
      "119/119 - 1s - loss: 13750888.0000 - accuracy: 0.5056 - 859ms/epoch - 7ms/step\n",
      "Epoch 8/20\n",
      "119/119 - 1s - loss: 36682492.0000 - accuracy: 0.5021 - 863ms/epoch - 7ms/step\n",
      "Epoch 9/20\n",
      "119/119 - 1s - loss: 149689664.0000 - accuracy: 0.5172 - 858ms/epoch - 7ms/step\n",
      "Epoch 10/20\n",
      "119/119 - 1s - loss: 221567152.0000 - accuracy: 0.5079 - 875ms/epoch - 7ms/step\n",
      "Epoch 11/20\n",
      "119/119 - 1s - loss: 366425824.0000 - accuracy: 0.5071 - 890ms/epoch - 7ms/step\n",
      "Epoch 12/20\n",
      "119/119 - 1s - loss: 625913536.0000 - accuracy: 0.4939 - 842ms/epoch - 7ms/step\n",
      "Epoch 13/20\n",
      "119/119 - 1s - loss: 619294464.0000 - accuracy: 0.4979 - 866ms/epoch - 7ms/step\n",
      "Epoch 14/20\n",
      "119/119 - 1s - loss: 991422272.0000 - accuracy: 0.5127 - 962ms/epoch - 8ms/step\n",
      "Epoch 15/20\n",
      "119/119 - 1s - loss: 1754358144.0000 - accuracy: 0.5093 - 866ms/epoch - 7ms/step\n",
      "Epoch 16/20\n",
      "119/119 - 1s - loss: 2677427456.0000 - accuracy: 0.5058 - 862ms/epoch - 7ms/step\n",
      "Epoch 17/20\n",
      "119/119 - 1s - loss: 2811040768.0000 - accuracy: 0.5003 - 919ms/epoch - 8ms/step\n",
      "Epoch 18/20\n",
      "119/119 - 1s - loss: 3730466816.0000 - accuracy: 0.5124 - 844ms/epoch - 7ms/step\n",
      "Epoch 19/20\n",
      "119/119 - 1s - loss: 5383576064.0000 - accuracy: 0.5154 - 852ms/epoch - 7ms/step\n",
      "Epoch 20/20\n",
      "119/119 - 1s - loss: 8915416064.0000 - accuracy: 0.5106 - 874ms/epoch - 7ms/step\n"
     ]
    },
    {
     "data": {
      "text/plain": "<keras.callbacks.History at 0x16183efff70>"
     },
     "execution_count": 61,
     "metadata": {},
     "output_type": "execute_result"
    }
   ],
   "source": [
    "batch_size = 32\n",
    "model.fit(X_train, Y_train, epochs=20, batch_size=batch_size, verbose = 2)"
   ],
   "metadata": {
    "collapsed": false,
    "pycharm": {
     "name": "#%%\n"
    }
   }
  },
  {
   "cell_type": "code",
   "execution_count": 62,
   "outputs": [
    {
     "name": "stdout",
     "output_type": "stream",
     "text": [
      "59/59 - 0s - loss: 4426117632.0000 - accuracy: 0.5204 - 271ms/epoch - 5ms/step\n",
      "Accuracy: 52.04%\n"
     ]
    }
   ],
   "source": [
    "# Final evaluation of the model\n",
    "scores = model.evaluate(X_test, Y_test, verbose=2)\n",
    "print(\"Accuracy: %.2f%%\" % (scores[1]*100))"
   ],
   "metadata": {
    "collapsed": false,
    "pycharm": {
     "name": "#%%\n"
    }
   }
  },
  {
   "cell_type": "code",
   "execution_count": 62,
   "outputs": [],
   "source": [],
   "metadata": {
    "collapsed": false,
    "pycharm": {
     "name": "#%%\n"
    }
   }
  },
  {
   "cell_type": "code",
   "execution_count": null,
   "outputs": [],
   "source": [],
   "metadata": {
    "collapsed": false,
    "pycharm": {
     "name": "#%%\n"
    }
   }
  }
 ],
 "metadata": {
  "kernelspec": {
   "display_name": "Python 3",
   "language": "python",
   "name": "python3"
  },
  "language_info": {
   "codemirror_mode": {
    "name": "ipython",
    "version": 2
   },
   "file_extension": ".py",
   "mimetype": "text/x-python",
   "name": "python",
   "nbconvert_exporter": "python",
   "pygments_lexer": "ipython2",
   "version": "2.7.6"
  }
 },
 "nbformat": 4,
 "nbformat_minor": 0
}