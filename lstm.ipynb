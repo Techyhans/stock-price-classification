{
 "cells": [
  {
   "cell_type": "code",
   "execution_count": 1,
   "metadata": {
    "collapsed": true
   },
   "outputs": [],
   "source": [
    "import numpy as np # linear algebra\n",
    "import pandas as pd # data processing, CSV file I/O (e.g. pd.read_csv)\n",
    "\n",
    "from sklearn.feature_extraction.text import CountVectorizer\n",
    "from keras.preprocessing.text import Tokenizer\n",
    "from keras.preprocessing.sequence import pad_sequences\n",
    "from keras.models import Sequential\n",
    "from keras.layers import Dense, Embedding, LSTM, SpatialDropout1D\n",
    "from sklearn.model_selection import train_test_split\n",
    "from keras.utils.np_utils import to_categorical\n",
    "import re\n",
    "import os\n"
   ]
  },
  {
   "cell_type": "code",
   "execution_count": 2,
   "outputs": [],
   "source": [
    "data = os.path.join(os.getcwd(),'data_final.csv')"
   ],
   "metadata": {
    "collapsed": false,
    "pycharm": {
     "name": "#%%\n"
    }
   }
  },
  {
   "cell_type": "code",
   "execution_count": 3,
   "outputs": [],
   "source": [
    "df = pd.read_csv(data)\n",
    "df = df.loc[df['Price movement'].isin([\"Up\", \"Down\"])]\n",
    "df[\"Headline\"].apply(lambda x: x.lower())\n",
    "df[\"Headline\"].apply(lambda x: re.sub('[^a-zA-z0-9\\s]','',x))\n",
    "\n",
    "max_features = 2000\n",
    "tokenizer = Tokenizer(num_words=max_features, split=' ')\n",
    "tokenizer.fit_on_texts(df['Headline'].values)\n",
    "X = tokenizer.texts_to_sequences(df['Headline'].values)\n",
    "X = pad_sequences(X)"
   ],
   "metadata": {
    "collapsed": false,
    "pycharm": {
     "name": "#%%\n"
    }
   }
  },
  {
   "cell_type": "code",
   "execution_count": 4,
   "outputs": [
    {
     "name": "stdout",
     "output_type": "stream",
     "text": [
      "Model: \"sequential\"\n",
      "_________________________________________________________________\n",
      " Layer (type)                Output Shape              Param #   \n",
      "=================================================================\n",
      " embedding (Embedding)       (None, 28, 128)           256000    \n",
      "                                                                 \n",
      " spatial_dropout1d (SpatialD  (None, 28, 128)          0         \n",
      " ropout1D)                                                       \n",
      "                                                                 \n",
      " lstm (LSTM)                 (None, 196)               254800    \n",
      "                                                                 \n",
      " dense (Dense)               (None, 2)                 394       \n",
      "                                                                 \n",
      "=================================================================\n",
      "Total params: 511,194\n",
      "Trainable params: 511,194\n",
      "Non-trainable params: 0\n",
      "_________________________________________________________________\n",
      "None\n"
     ]
    }
   ],
   "source": [
    "embed_dim = 128\n",
    "lstm_out = 196\n",
    "\n",
    "model = Sequential()\n",
    "model.add(Embedding(max_features, embed_dim,input_length = X.shape[1]))\n",
    "model.add(SpatialDropout1D(0.4))\n",
    "model.add(LSTM(lstm_out, dropout=0.2, recurrent_dropout=0.2))\n",
    "model.add(Dense(2,activation='softmax'))\n",
    "model.compile(loss = 'categorical_crossentropy', optimizer='adam',metrics = ['accuracy'])\n",
    "print(model.summary())"
   ],
   "metadata": {
    "collapsed": false,
    "pycharm": {
     "name": "#%%\n"
    }
   }
  },
  {
   "cell_type": "code",
   "execution_count": 5,
   "outputs": [
    {
     "name": "stdout",
     "output_type": "stream",
     "text": [
      "(2751, 28) (2751, 2)\n",
      "(1356, 28) (1356, 2)\n"
     ]
    }
   ],
   "source": [
    "Y = pd.get_dummies(df['Price movement']).values\n",
    "X_train, X_test, Y_train, Y_test = train_test_split(X,Y, test_size = 0.33, random_state = 42)\n",
    "print(X_train.shape,Y_train.shape)\n",
    "print(X_test.shape,Y_test.shape)"
   ],
   "metadata": {
    "collapsed": false,
    "pycharm": {
     "name": "#%%\n"
    }
   }
  },
  {
   "cell_type": "code",
   "execution_count": 6,
   "outputs": [
    {
     "name": "stdout",
     "output_type": "stream",
     "text": [
      "Epoch 1/20\n",
      "86/86 - 20s - loss: 0.6884 - accuracy: 0.5413 - 20s/epoch - 229ms/step\n",
      "Epoch 2/20\n",
      "86/86 - 6s - loss: 0.6500 - accuracy: 0.6332 - 6s/epoch - 65ms/step\n",
      "Epoch 3/20\n",
      "86/86 - 5s - loss: 0.5589 - accuracy: 0.7168 - 5s/epoch - 64ms/step\n",
      "Epoch 4/20\n",
      "86/86 - 5s - loss: 0.4673 - accuracy: 0.7801 - 5s/epoch - 64ms/step\n",
      "Epoch 5/20\n",
      "86/86 - 6s - loss: 0.3954 - accuracy: 0.8233 - 6s/epoch - 66ms/step\n",
      "Epoch 6/20\n",
      "86/86 - 6s - loss: 0.3307 - accuracy: 0.8586 - 6s/epoch - 64ms/step\n",
      "Epoch 7/20\n",
      "86/86 - 5s - loss: 0.2963 - accuracy: 0.8768 - 5s/epoch - 63ms/step\n",
      "Epoch 8/20\n",
      "86/86 - 5s - loss: 0.2613 - accuracy: 0.8895 - 5s/epoch - 64ms/step\n",
      "Epoch 9/20\n",
      "86/86 - 5s - loss: 0.2355 - accuracy: 0.9004 - 5s/epoch - 63ms/step\n",
      "Epoch 10/20\n",
      "86/86 - 4s - loss: 0.2123 - accuracy: 0.9138 - 4s/epoch - 41ms/step\n",
      "Epoch 11/20\n",
      "86/86 - 4s - loss: 0.2048 - accuracy: 0.9168 - 4s/epoch - 41ms/step\n",
      "Epoch 12/20\n",
      "86/86 - 4s - loss: 0.1743 - accuracy: 0.9262 - 4s/epoch - 41ms/step\n",
      "Epoch 13/20\n",
      "86/86 - 3s - loss: 0.1630 - accuracy: 0.9317 - 3s/epoch - 39ms/step\n",
      "Epoch 14/20\n",
      "86/86 - 4s - loss: 0.1595 - accuracy: 0.9313 - 4s/epoch - 41ms/step\n",
      "Epoch 15/20\n",
      "86/86 - 3s - loss: 0.1593 - accuracy: 0.9393 - 3s/epoch - 38ms/step\n",
      "Epoch 16/20\n",
      "86/86 - 3s - loss: 0.1244 - accuracy: 0.9480 - 3s/epoch - 38ms/step\n",
      "Epoch 17/20\n",
      "86/86 - 3s - loss: 0.1223 - accuracy: 0.9480 - 3s/epoch - 40ms/step\n",
      "Epoch 18/20\n",
      "86/86 - 3s - loss: 0.1274 - accuracy: 0.9440 - 3s/epoch - 38ms/step\n",
      "Epoch 19/20\n",
      "86/86 - 3s - loss: 0.1247 - accuracy: 0.9466 - 3s/epoch - 39ms/step\n",
      "Epoch 20/20\n",
      "86/86 - 3s - loss: 0.1104 - accuracy: 0.9524 - 3s/epoch - 41ms/step\n"
     ]
    },
    {
     "data": {
      "text/plain": "<keras.callbacks.History at 0x21c3f2cf610>"
     },
     "execution_count": 6,
     "metadata": {},
     "output_type": "execute_result"
    }
   ],
   "source": [
    "batch_size = 32\n",
    "model.fit(X_train, Y_train, epochs = 20, batch_size=batch_size, verbose = 2)"
   ],
   "metadata": {
    "collapsed": false,
    "pycharm": {
     "name": "#%%\n"
    }
   }
  },
  {
   "cell_type": "code",
   "execution_count": 7,
   "outputs": [
    {
     "name": "stdout",
     "output_type": "stream",
     "text": [
      "43/43 - 1s - loss: 2.3536 - accuracy: 0.5841 - 594ms/epoch - 14ms/step\n",
      "score: 2.35\n",
      "acc: 0.58\n"
     ]
    }
   ],
   "source": [
    "score,acc = model.evaluate(X_test, Y_test, verbose = 2, batch_size = batch_size)\n",
    "print(\"score: %.2f\" % (score))\n",
    "print(\"acc: %.2f\" % (acc))"
   ],
   "metadata": {
    "collapsed": false,
    "pycharm": {
     "name": "#%%\n"
    }
   }
  },
  {
   "cell_type": "code",
   "execution_count": null,
   "outputs": [],
   "source": [],
   "metadata": {
    "collapsed": false,
    "pycharm": {
     "name": "#%%\n"
    }
   }
  }
 ],
 "metadata": {
  "kernelspec": {
   "display_name": "Python 3",
   "language": "python",
   "name": "python3"
  },
  "language_info": {
   "codemirror_mode": {
    "name": "ipython",
    "version": 2
   },
   "file_extension": ".py",
   "mimetype": "text/x-python",
   "name": "python",
   "nbconvert_exporter": "python",
   "pygments_lexer": "ipython2",
   "version": "2.7.6"
  }
 },
 "nbformat": 4,
 "nbformat_minor": 0
}