{
 "cells": [
  {
   "cell_type": "code",
   "execution_count": 3,
   "metadata": {
    "collapsed": true
   },
   "outputs": [],
   "source": [
    "import numpy as np # linear algebra\n",
    "import pandas as pd # data processing, CSV file I/O (e.g. pd.read_csv)\n",
    "\n",
    "from sklearn.feature_extraction.text import CountVectorizer\n",
    "from keras.preprocessing.text import Tokenizer\n",
    "from keras.preprocessing.sequence import pad_sequences\n",
    "from keras.models import Sequential\n",
    "from keras.layers import Dense, Embedding, LSTM, SpatialDropout1D\n",
    "from sklearn.model_selection import train_test_split\n",
    "from keras.utils.np_utils import to_categorical\n",
    "import re\n",
    "import os\n"
   ]
  },
  {
   "cell_type": "code",
   "execution_count": 4,
   "outputs": [],
   "source": [
    "data = os.path.join(os.getcwd(),'data_final.csv')"
   ],
   "metadata": {
    "collapsed": false,
    "pycharm": {
     "name": "#%%\n"
    }
   }
  },
  {
   "cell_type": "code",
   "execution_count": 18,
   "outputs": [],
   "source": [
    "df = pd.read_csv(data)\n",
    "df = df.loc[df['Price movement'].isin([\"Up\", \"Down\"])]\n",
    "df[\"Headline\"].apply(lambda x: x.lower())\n",
    "df[\"Headline\"].apply(lambda x: re.sub('[^a-zA-z0-9\\s]','',x))\n",
    "\n",
    "max_features = 2000\n",
    "tokenizer = Tokenizer(num_words=max_features, split=' ')\n",
    "tokenizer.fit_on_texts(df['Headline'].values)\n",
    "X = tokenizer.texts_to_sequences(df['Headline'].values)\n",
    "X = pad_sequences(X)"
   ],
   "metadata": {
    "collapsed": false,
    "pycharm": {
     "name": "#%%\n"
    }
   }
  },
  {
   "cell_type": "code",
   "execution_count": 19,
   "outputs": [
    {
     "name": "stdout",
     "output_type": "stream",
     "text": [
      "Model: \"sequential_2\"\n",
      "_________________________________________________________________\n",
      "Layer (type)                 Output Shape              Param #   \n",
      "=================================================================\n",
      "embedding_2 (Embedding)      (None, 30, 128)           256000    \n",
      "_________________________________________________________________\n",
      "spatial_dropout1d_2 (Spatial (None, 30, 128)           0         \n",
      "_________________________________________________________________\n",
      "lstm_2 (LSTM)                (None, 196)               254800    \n",
      "_________________________________________________________________\n",
      "dense_2 (Dense)              (None, 2)                 394       \n",
      "=================================================================\n",
      "Total params: 511,194\n",
      "Trainable params: 511,194\n",
      "Non-trainable params: 0\n",
      "_________________________________________________________________\n",
      "None\n"
     ]
    }
   ],
   "source": [
    "embed_dim = 128\n",
    "lstm_out = 196\n",
    "\n",
    "model = Sequential()\n",
    "model.add(Embedding(max_features, embed_dim,input_length = X.shape[1]))\n",
    "model.add(SpatialDropout1D(0.4))\n",
    "model.add(LSTM(lstm_out, dropout=0.2, recurrent_dropout=0.2))\n",
    "model.add(Dense(2,activation='softmax'))\n",
    "model.compile(loss = 'categorical_crossentropy', optimizer='adam',metrics = ['accuracy'])\n",
    "print(model.summary())"
   ],
   "metadata": {
    "collapsed": false,
    "pycharm": {
     "name": "#%%\n"
    }
   }
  },
  {
   "cell_type": "code",
   "execution_count": 26,
   "outputs": [
    {
     "name": "stdout",
     "output_type": "stream",
     "text": [
      "(411, 30) (411, 2)\n",
      "(203, 30) (203, 2)\n"
     ]
    }
   ],
   "source": [
    "Y = pd.get_dummies(df['Price movement']).values\n",
    "X_train, X_test, Y_train, Y_test = train_test_split(X,Y, test_size = 0.33, random_state = 42)\n",
    "print(X_train.shape,Y_train.shape)\n",
    "print(X_test.shape,Y_test.shape)"
   ],
   "metadata": {
    "collapsed": false,
    "pycharm": {
     "name": "#%%\n"
    }
   }
  },
  {
   "cell_type": "code",
   "execution_count": 27,
   "outputs": [
    {
     "name": "stdout",
     "output_type": "stream",
     "text": [
      "Epoch 1/20\n",
      " - 0s - loss: 0.1169 - accuracy: 0.9489\n",
      "Epoch 2/20\n",
      " - 0s - loss: 0.0691 - accuracy: 0.9684\n",
      "Epoch 3/20\n",
      " - 0s - loss: 0.0610 - accuracy: 0.9611\n",
      "Epoch 4/20\n",
      " - 0s - loss: 0.0573 - accuracy: 0.9635\n",
      "Epoch 5/20\n",
      " - 0s - loss: 0.0483 - accuracy: 0.9805\n",
      "Epoch 6/20\n",
      " - 0s - loss: 0.0476 - accuracy: 0.9757\n",
      "Epoch 7/20\n",
      " - 0s - loss: 0.0538 - accuracy: 0.9659\n",
      "Epoch 8/20\n",
      " - 0s - loss: 0.0467 - accuracy: 0.9708\n",
      "Epoch 9/20\n",
      " - 0s - loss: 0.0435 - accuracy: 0.9732\n",
      "Epoch 10/20\n",
      " - 0s - loss: 0.0471 - accuracy: 0.9757\n",
      "Epoch 11/20\n",
      " - 0s - loss: 0.0599 - accuracy: 0.9586\n",
      "Epoch 12/20\n",
      " - 0s - loss: 0.0521 - accuracy: 0.9659\n",
      "Epoch 13/20\n",
      " - 0s - loss: 0.0466 - accuracy: 0.9732\n",
      "Epoch 14/20\n",
      " - 0s - loss: 0.0463 - accuracy: 0.9684\n",
      "Epoch 15/20\n",
      " - 0s - loss: 0.0445 - accuracy: 0.9757\n",
      "Epoch 16/20\n",
      " - 0s - loss: 0.0467 - accuracy: 0.9684\n",
      "Epoch 17/20\n",
      " - 0s - loss: 0.0473 - accuracy: 0.9659\n",
      "Epoch 18/20\n",
      " - 0s - loss: 0.0523 - accuracy: 0.9659\n",
      "Epoch 19/20\n",
      " - 0s - loss: 0.0461 - accuracy: 0.9781\n",
      "Epoch 20/20\n",
      " - 0s - loss: 0.0454 - accuracy: 0.9659\n"
     ]
    },
    {
     "data": {
      "text/plain": "<keras.callbacks.callbacks.History at 0x22c42089a88>"
     },
     "execution_count": 27,
     "metadata": {},
     "output_type": "execute_result"
    }
   ],
   "source": [
    "batch_size = 32\n",
    "model.fit(X_train, Y_train, epochs = 20, batch_size=batch_size, verbose = 2)"
   ],
   "metadata": {
    "collapsed": false,
    "pycharm": {
     "name": "#%%\n"
    }
   }
  },
  {
   "cell_type": "code",
   "execution_count": 28,
   "outputs": [
    {
     "name": "stdout",
     "output_type": "stream",
     "text": [
      "score: 1.56\n",
      "acc: 0.55\n"
     ]
    }
   ],
   "source": [
    "score,acc = model.evaluate(X_test, Y_test, verbose = 2, batch_size = batch_size)\n",
    "print(\"score: %.2f\" % (score))\n",
    "print(\"acc: %.2f\" % (acc))"
   ],
   "metadata": {
    "collapsed": false,
    "pycharm": {
     "name": "#%%\n"
    }
   }
  },
  {
   "cell_type": "code",
   "execution_count": null,
   "outputs": [],
   "source": [],
   "metadata": {
    "collapsed": false,
    "pycharm": {
     "name": "#%%\n"
    }
   }
  }
 ],
 "metadata": {
  "kernelspec": {
   "display_name": "Python 3",
   "language": "python",
   "name": "python3"
  },
  "language_info": {
   "codemirror_mode": {
    "name": "ipython",
    "version": 2
   },
   "file_extension": ".py",
   "mimetype": "text/x-python",
   "name": "python",
   "nbconvert_exporter": "python",
   "pygments_lexer": "ipython2",
   "version": "2.7.6"
  }
 },
 "nbformat": 4,
 "nbformat_minor": 0
}