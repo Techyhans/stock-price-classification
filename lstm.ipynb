{
 "cells": [
  {
   "cell_type": "code",
   "execution_count": 40,
   "metadata": {
    "collapsed": true
   },
   "outputs": [],
   "source": [
    "import numpy as np # linear algebra\n",
    "import pandas as pd # data processing, CSV file I/O (e.g. pd.read_csv)\n",
    "\n",
    "from sklearn.feature_extraction.text import CountVectorizer\n",
    "from keras.preprocessing.text import Tokenizer\n",
    "from keras.preprocessing.sequence import pad_sequences\n",
    "from keras.models import Sequential\n",
    "from keras.layers import Dense, Embedding, LSTM, SpatialDropout1D\n",
    "from sklearn.model_selection import train_test_split\n",
    "from keras.utils.np_utils import to_categorical\n",
    "import re\n",
    "import os\n",
    "import tensorflow as tf\n"
   ]
  },
  {
   "cell_type": "code",
   "execution_count": 41,
   "outputs": [],
   "source": [
    "data = os.path.join(os.getcwd(),'data_final.csv')"
   ],
   "metadata": {
    "collapsed": false,
    "pycharm": {
     "name": "#%%\n"
    }
   }
  },
  {
   "cell_type": "code",
   "execution_count": 42,
   "outputs": [],
   "source": [
    "df = pd.read_csv(data)\n",
    "df = df.loc[df['Price movement'].isin([\"Up\", \"Down\"])]\n",
    "df[\"Headline\"].apply(lambda x: x.lower())\n",
    "df[\"Headline\"].apply(lambda x: re.sub('[^a-zA-z0-9\\s]','',x))\n",
    "\n",
    "max_features = 2000\n",
    "tokenizer = Tokenizer(num_words=max_features, split=' ')\n",
    "tokenizer.fit_on_texts(df['Headline'].values)\n",
    "X = tokenizer.texts_to_sequences(df['Headline'].values)\n",
    "X = pad_sequences(X)"
   ],
   "metadata": {
    "collapsed": false,
    "pycharm": {
     "name": "#%%\n"
    }
   }
  },
  {
   "cell_type": "code",
   "execution_count": 43,
   "outputs": [
    {
     "name": "stdout",
     "output_type": "stream",
     "text": [
      "Model: \"sequential_6\"\n",
      "_________________________________________________________________\n",
      " Layer (type)                Output Shape              Param #   \n",
      "=================================================================\n",
      " embedding_6 (Embedding)     (None, 28, 128)           256000    \n",
      "                                                                 \n",
      " spatial_dropout1d_6 (Spatia  (None, 28, 128)          0         \n",
      " lDropout1D)                                                     \n",
      "                                                                 \n",
      " lstm_6 (LSTM)               (None, 196)               254800    \n",
      "                                                                 \n",
      " dense_6 (Dense)             (None, 2)                 394       \n",
      "                                                                 \n",
      "=================================================================\n",
      "Total params: 511,194\n",
      "Trainable params: 511,194\n",
      "Non-trainable params: 0\n",
      "_________________________________________________________________\n",
      "None\n"
     ]
    }
   ],
   "source": [
    "embed_dim = 128\n",
    "lstm_out = 196\n",
    "\n",
    "model = Sequential()\n",
    "model.add(Embedding(max_features, embed_dim,input_length = X.shape[1]))\n",
    "model.add(SpatialDropout1D(0.4))\n",
    "model.add(LSTM(lstm_out, dropout=0.2, recurrent_dropout=0.2))\n",
    "model.add(Dense(2,activation='softmax'))\n",
    "model.compile(loss = 'binary_crossentropy', optimizer='adam',metrics = ['accuracy', tf.keras.metrics.Precision(), tf.keras.metrics.Recall()])\n",
    "print(model.summary())"
   ],
   "metadata": {
    "collapsed": false,
    "pycharm": {
     "name": "#%%\n"
    }
   }
  },
  {
   "cell_type": "code",
   "execution_count": 44,
   "outputs": [
    {
     "name": "stdout",
     "output_type": "stream",
     "text": [
      "(2751, 28) (2751, 2)\n",
      "(1356, 28) (1356, 2)\n"
     ]
    }
   ],
   "source": [
    "Y = pd.get_dummies(df['Price movement']).values\n",
    "X_train, X_test, Y_train, Y_test = train_test_split(X,Y, test_size = 0.33, random_state = 42)\n",
    "print(X_train.shape,Y_train.shape)\n",
    "print(X_test.shape,Y_test.shape)"
   ],
   "metadata": {
    "collapsed": false,
    "pycharm": {
     "name": "#%%\n"
    }
   }
  },
  {
   "cell_type": "code",
   "execution_count": 45,
   "outputs": [
    {
     "name": "stdout",
     "output_type": "stream",
     "text": [
      "Epoch 1/20\n",
      "86/86 - 15s - loss: 0.6896 - accuracy: 0.5460 - precision_4: 0.5460 - recall_4: 0.5460 - 15s/epoch - 179ms/step\n",
      "Epoch 2/20\n",
      "86/86 - 4s - loss: 0.6601 - accuracy: 0.6129 - precision_4: 0.6129 - recall_4: 0.6129 - 4s/epoch - 45ms/step\n",
      "Epoch 3/20\n",
      "86/86 - 4s - loss: 0.5642 - accuracy: 0.7114 - precision_4: 0.7114 - recall_4: 0.7114 - 4s/epoch - 48ms/step\n",
      "Epoch 4/20\n",
      "86/86 - 4s - loss: 0.4821 - accuracy: 0.7739 - precision_4: 0.7739 - recall_4: 0.7739 - 4s/epoch - 44ms/step\n",
      "Epoch 5/20\n",
      "86/86 - 4s - loss: 0.4106 - accuracy: 0.8106 - precision_4: 0.8106 - recall_4: 0.8106 - 4s/epoch - 44ms/step\n",
      "Epoch 6/20\n",
      "86/86 - 4s - loss: 0.3563 - accuracy: 0.8364 - precision_4: 0.8364 - recall_4: 0.8364 - 4s/epoch - 47ms/step\n",
      "Epoch 7/20\n",
      "86/86 - 4s - loss: 0.3139 - accuracy: 0.8659 - precision_4: 0.8659 - recall_4: 0.8659 - 4s/epoch - 45ms/step\n",
      "Epoch 8/20\n",
      "86/86 - 5s - loss: 0.2760 - accuracy: 0.8808 - precision_4: 0.8808 - recall_4: 0.8808 - 5s/epoch - 53ms/step\n",
      "Epoch 9/20\n",
      "86/86 - 6s - loss: 0.2566 - accuracy: 0.8935 - precision_4: 0.8935 - recall_4: 0.8935 - 6s/epoch - 65ms/step\n",
      "Epoch 10/20\n",
      "86/86 - 6s - loss: 0.2173 - accuracy: 0.9106 - precision_4: 0.9106 - recall_4: 0.9106 - 6s/epoch - 65ms/step\n",
      "Epoch 11/20\n",
      "86/86 - 6s - loss: 0.2005 - accuracy: 0.9182 - precision_4: 0.9182 - recall_4: 0.9182 - 6s/epoch - 65ms/step\n",
      "Epoch 12/20\n",
      "86/86 - 6s - loss: 0.1839 - accuracy: 0.9189 - precision_4: 0.9189 - recall_4: 0.9189 - 6s/epoch - 66ms/step\n",
      "Epoch 13/20\n",
      "86/86 - 6s - loss: 0.1640 - accuracy: 0.9346 - precision_4: 0.9346 - recall_4: 0.9346 - 6s/epoch - 65ms/step\n",
      "Epoch 14/20\n",
      "86/86 - 6s - loss: 0.1528 - accuracy: 0.9338 - precision_4: 0.9338 - recall_4: 0.9338 - 6s/epoch - 65ms/step\n",
      "Epoch 15/20\n",
      "86/86 - 6s - loss: 0.1440 - accuracy: 0.9364 - precision_4: 0.9364 - recall_4: 0.9364 - 6s/epoch - 65ms/step\n",
      "Epoch 16/20\n",
      "86/86 - 6s - loss: 0.1242 - accuracy: 0.9473 - precision_4: 0.9473 - recall_4: 0.9473 - 6s/epoch - 65ms/step\n",
      "Epoch 17/20\n",
      "86/86 - 6s - loss: 0.1304 - accuracy: 0.9444 - precision_4: 0.9444 - recall_4: 0.9444 - 6s/epoch - 64ms/step\n",
      "Epoch 18/20\n",
      "86/86 - 6s - loss: 0.1201 - accuracy: 0.9462 - precision_4: 0.9462 - recall_4: 0.9462 - 6s/epoch - 65ms/step\n",
      "Epoch 19/20\n",
      "86/86 - 6s - loss: 0.1058 - accuracy: 0.9491 - precision_4: 0.9491 - recall_4: 0.9491 - 6s/epoch - 65ms/step\n",
      "Epoch 20/20\n",
      "86/86 - 5s - loss: 0.1051 - accuracy: 0.9575 - precision_4: 0.9575 - recall_4: 0.9575 - 5s/epoch - 54ms/step\n"
     ]
    }
   ],
   "source": [
    "batch_size = 32\n",
    "epochs = 20\n",
    "history = model.fit(X_train, Y_train, epochs = epochs, batch_size=batch_size, verbose = 2)"
   ],
   "metadata": {
    "collapsed": false,
    "pycharm": {
     "name": "#%%\n"
    }
   }
  },
  {
   "cell_type": "code",
   "execution_count": 46,
   "outputs": [
    {
     "name": "stdout",
     "output_type": "stream",
     "text": [
      "43/43 - 1s - loss: 2.4308 - accuracy: 0.5900 - precision_4: 0.5900 - recall_4: 0.5900 - 623ms/epoch - 14ms/step\n",
      "Accuracy: 59.00%\n"
     ]
    }
   ],
   "source": [
    "# Final evaluation of the model\n",
    "scores = model.evaluate(X_test, Y_test, verbose=2)\n",
    "print(\"Accuracy: %.2f%%\" % (scores[1]*100))"
   ],
   "metadata": {
    "collapsed": false,
    "pycharm": {
     "name": "#%%\n"
    }
   }
  },
  {
   "cell_type": "code",
   "execution_count": 47,
   "outputs": [
    {
     "data": {
      "text/plain": "<Figure size 576x576 with 2 Axes>",
      "image/png": "[encoded data removed]"
     },
     "metadata": {
      "needs_background": "light"
     },
     "output_type": "display_data"
    }
   ],
   "source": [
    "import matplotlib.pyplot as plt\n",
    "\n",
    "acc = history.history['accuracy']\n",
    "\n",
    "loss = history.history['loss']\n",
    "\n",
    "epochs_range = range(epochs)\n",
    "\n",
    "plt.figure(figsize=(8, 8))\n",
    "plt.subplot(1, 2, 1)\n",
    "plt.plot(epochs_range, acc, label='Accuracy')\n",
    "plt.legend(loc='lower right')\n",
    "plt.title('Accuracy')\n",
    "\n",
    "plt.subplot(1, 2, 2)\n",
    "plt.plot(epochs_range, loss, label='Loss')\n",
    "plt.legend(loc='upper right')\n",
    "plt.title('Loss')\n",
    "plt.show()"
   ],
   "metadata": {
    "collapsed": false,
    "pycharm": {
     "name": "#%%\n"
    }
   }
  },
  {
   "cell_type": "code",
   "execution_count": null,
   "outputs": [],
   "source": [],
   "metadata": {
    "collapsed": false,
    "pycharm": {
     "name": "#%%\n"
    }
   }
  }
 ],
 "metadata": {
  "kernelspec": {
   "display_name": "Python 3",
   "language": "python",
   "name": "python3"
  },
  "language_info": {
   "codemirror_mode": {
    "name": "ipython",
    "version": 2
   },
   "file_extension": ".py",
   "mimetype": "text/x-python",
   "name": "python",
   "nbconvert_exporter": "python",
   "pygments_lexer": "ipython2",
   "version": "2.7.6"
  }
 },
 "nbformat": 4,
 "nbformat_minor": 0
}